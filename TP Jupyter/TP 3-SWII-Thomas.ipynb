{
 "cells": [
  {
   "cell_type": "code",
   "execution_count": 6,
   "id": "d1f2c96e",
   "metadata": {},
   "outputs": [
    {
     "name": "stdout",
     "output_type": "stream",
     "text": [
      "Es el primer bloque del proyecto\n"
     ]
    }
   ],
   "source": [
    "variable = 1\n",
    "print(\"Es el primer bloque del proyecto\")"
   ]
  },
  {
   "cell_type": "code",
   "execution_count": 7,
   "id": "f0eccb1c",
   "metadata": {},
   "outputs": [
    {
     "name": "stdout",
     "output_type": "stream",
     "text": [
      "Proyecto de Thomas:  1\n"
     ]
    }
   ],
   "source": [
    "print(\"Proyecto de Thomas: \",variable)"
   ]
  },
  {
   "cell_type": "code",
   "execution_count": 8,
   "id": "def8f72a",
   "metadata": {},
   "outputs": [],
   "source": [
    "#4) Si pude imprimirla, ya que primero corrí la primer celda para que la segunda funcione\n"
   ]
  },
  {
   "cell_type": "code",
   "execution_count": 1,
   "id": "c3cfa38d",
   "metadata": {},
   "outputs": [],
   "source": [
    "#5) Se reinicia el kernel \n",
    "#6) Interrump: te interrumpe la ejecucion\n",
    "#   Restart: reinicia el kernel y no te modifica los resultados\n",
    "#   Restart y Clear: Reinicial el kernel y modifica los resultados\n",
    "#7) In[número]: indica el numero de celda"
   ]
  },
  {
   "cell_type": "markdown",
   "id": "b848ba81",
   "metadata": {},
   "source": [
    "# Universidad Autónoma de Entre Ríos\n",
    "## Facultad de Ciencia y Tecnología\n",
    "### Sede Concepción del Uruguay\n",
    "Licenciatura en Sistema de Información:\n",
    "- Primer año\n",
    "- Segundo año\n",
    "- **Tercer** año\n",
    "- Cuarto año\n",
    "- Quinto año"
   ]
  },
  {
   "cell_type": "markdown",
   "id": "fa7c6cf4",
   "metadata": {},
   "source": [
    "![imagen](https://i.blogs.es/5f74ce/1366_2000/450_1000.jpeg)"
   ]
  },
  {
   "cell_type": "markdown",
   "id": "cc8be8d4",
   "metadata": {},
   "source": [
    "#### 10) Se puede acceder a la imagen copiando la dirreccion de la imagen \n",
    "#### 11) Podes cambiar de orden con las fechitas que aparecen debajo de la opcion insert, y se pueden combinar las celdas dirigiendose a la opcion edit, merge cell above (arriba) o merge cell below (abajo) \n"
   ]
  },
  {
   "cell_type": "code",
   "execution_count": null,
   "id": "186f91a0",
   "metadata": {},
   "outputs": [],
   "source": []
  }
 ],
 "metadata": {
  "kernelspec": {
   "display_name": "Python 3 (ipykernel)",
   "language": "python",
   "name": "python3"
  },
  "language_info": {
   "codemirror_mode": {
    "name": "ipython",
    "version": 3
   },
   "file_extension": ".py",
   "mimetype": "text/x-python",
   "name": "python",
   "nbconvert_exporter": "python",
   "pygments_lexer": "ipython3",
   "version": "3.10.4"
  }
 },
 "nbformat": 4,
 "nbformat_minor": 5
}
